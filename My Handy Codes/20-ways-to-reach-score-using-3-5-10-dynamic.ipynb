def ways_dynamicProg(t,sum_num):
    res=[0 for i in range(sum_num+1)]
    
    res[0]=1
    
    for i in t:
        for j in range(i,sum_num+1):
            res[j]= res[j]+res[j-i]
    print("Ways available:\t",res[sum_num])
    
def main():
    sum_num = int(input())
    num=int(input())
    t=[]
    for i in range(1,num+1):
        t.append(int(input()))
    ways_dynamicProg(t,sum_num)
main()
