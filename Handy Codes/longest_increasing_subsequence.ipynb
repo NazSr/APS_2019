{
 "cells": [
  {
   "cell_type": "markdown",
   "metadata": {},
   "source": [
    "### longest_incresing_sunsequence"
   ]
  },
  {
   "cell_type": "code",
   "execution_count": 2,
   "metadata": {},
   "outputs": [],
   "source": [
    "def longest_increasing_subsequence(arr,size):\n",
    "    max=0\n",
    "    # set lis array to all 1's\n",
    "    lis=[1 for i in range(0,size)]\n",
    "    \n",
    "    # compares array value and set lis bit\n",
    "    for i in range(1,size):\n",
    "        for j in range(0,i):\n",
    "            if(arr[i]>arr[j] and lis[i]<lis[j]+1):\n",
    "                lis[i]+=1;\n",
    "                \n",
    "    for i in range(0,size):\n",
    "        if(lis[i]>max):\n",
    "            max=lis[i]\n",
    "    return max"
   ]
  },
  {
   "cell_type": "code",
   "execution_count": 3,
   "metadata": {},
   "outputs": [
    {
     "name": "stdout",
     "output_type": "stream",
     "text": [
      "6\n",
      "5 \n",
      "11\n",
      "3\n",
      "15\n",
      "30\n",
      "25\n",
      "Number of terms in LIS is:\n",
      " 4\n"
     ]
    }
   ],
   "source": [
    "def main():\n",
    "    arr=[]\n",
    "    # size of an array\n",
    "    inp = int(input())\n",
    "    #\n",
    "    for i in range(inp):\n",
    "        arr.append(int(input()))\n",
    "    #function call\n",
    "    result = longest_increasing_subsequence(arr,inp)\n",
    "    print(\"Number of terms in LIS is:\\n\",result)\n",
    "main()"
   ]
  },
  {
   "cell_type": "code",
   "execution_count": null,
   "metadata": {},
   "outputs": [],
   "source": []
  }
 ],
 "metadata": {
  "kernelspec": {
   "display_name": "Python 3",
   "language": "python",
   "name": "python3"
  },
  "language_info": {
   "codemirror_mode": {
    "name": "ipython",
    "version": 3
   },
   "file_extension": ".py",
   "mimetype": "text/x-python",
   "name": "python",
   "nbconvert_exporter": "python",
   "pygments_lexer": "ipython3",
   "version": "3.7.0"
  }
 },
 "nbformat": 4,
 "nbformat_minor": 2
}
