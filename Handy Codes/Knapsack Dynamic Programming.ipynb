{
 "cells": [
  {
   "cell_type": "markdown",
   "metadata": {},
   "source": [
    "### KnapSack dynamic problem"
   ]
  },
  {
   "cell_type": "code",
   "execution_count": 17,
   "metadata": {},
   "outputs": [],
   "source": [
    "def knapSack(W,wt,val,n):\n",
    "    item = [[0 for x in range(W+1)] for x in range(n+1)]\n",
    "    for i in range(n+1):\n",
    "        for w in range(W+1):\n",
    "            if i==0 or w==0:\n",
    "                item[i][w] = 0\n",
    "            elif wt[i-1] <= w:\n",
    "                item[i][w] = max(item[i-1][w], val[i-1] + item[i-1][w-wt[i-1]])\n",
    "            else:\n",
    "                item[i][w] = item[i-1][w]\n",
    "    print(item[n][w])"
   ]
  },
  {
   "cell_type": "code",
   "execution_count": 18,
   "metadata": {},
   "outputs": [
    {
     "name": "stdout",
     "output_type": "stream",
     "text": [
      "37\n"
     ]
    }
   ],
   "source": [
    "def main():\n",
    "    val = [12,10,20,15]\n",
    "    wt = [2,1,3,2]\n",
    "    W = 5\n",
    "    n = len(val)\n",
    "    knapSack(W,wt,val,n)\n",
    "main()"
   ]
  },
  {
   "cell_type": "code",
   "execution_count": null,
   "metadata": {},
   "outputs": [],
   "source": []
  }
 ],
 "metadata": {
  "kernelspec": {
   "display_name": "Python 3",
   "language": "python",
   "name": "python3"
  },
  "language_info": {
   "codemirror_mode": {
    "name": "ipython",
    "version": 3
   },
   "file_extension": ".py",
   "mimetype": "text/x-python",
   "name": "python",
   "nbconvert_exporter": "python",
   "pygments_lexer": "ipython3",
   "version": "3.7.0"
  }
 },
 "nbformat": 4,
 "nbformat_minor": 2
}
