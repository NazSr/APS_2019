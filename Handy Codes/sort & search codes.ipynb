{
 "cells": [
  {
   "cell_type": "markdown",
   "metadata": {},
   "source": [
    "### Quick Sort"
   ]
  },
  {
   "cell_type": "code",
   "execution_count": 15,
   "metadata": {},
   "outputs": [],
   "source": [
    "def partition(arr,low,high):\n",
    "    i=(low-1)\n",
    "    pivot=arr[high]\n",
    "    \n",
    "    for j in range(low,high):\n",
    "        if arr[j]<=pivot:\n",
    "            i+=1\n",
    "            temp=arr[i]\n",
    "            arr[i]=arr[j]\n",
    "            arr[j]=temp\n",
    "            \n",
    "    temp=arr[i+1]\n",
    "    arr[i+1]=arr[high]\n",
    "    arr[high]=temp\n",
    "    return (i+1)"
   ]
  },
  {
   "cell_type": "code",
   "execution_count": 16,
   "metadata": {},
   "outputs": [],
   "source": [
    "def quickSort(arr,low,high):\n",
    "    if low<high:\n",
    "        pi=partition(arr,low,high)\n",
    "        quickSort(arr,low,pi-1)\n",
    "        quickSort(arr,pi+1,high)\n",
    "        "
   ]
  },
  {
   "cell_type": "code",
   "execution_count": 17,
   "metadata": {},
   "outputs": [
    {
     "name": "stdout",
     "output_type": "stream",
     "text": [
      "Sorted array is:\n",
      "1\n",
      "5\n",
      "7\n",
      "8\n",
      "9\n",
      "10\n"
     ]
    }
   ],
   "source": [
    "def main():\n",
    "    arr=[10,7,8,9,1,5]\n",
    "    n=len(arr)\n",
    "    quickSort(arr,0,n-1)\n",
    "    print(\"Sorted array is:\")\n",
    "    for i in range(n):\n",
    "        print(arr[i])\n",
    "main()"
   ]
  },
  {
   "cell_type": "markdown",
   "metadata": {},
   "source": [
    "### Binary Search - Iterative"
   ]
  },
  {
   "cell_type": "code",
   "execution_count": 24,
   "metadata": {},
   "outputs": [],
   "source": [
    "def binarySearch(arr,l,r,x):\n",
    "    while l<=r:\n",
    "        mid=l+int((r-1)/2)\n",
    "        if arr[mid]==x:\n",
    "            return mid\n",
    "        elif arr[mid]<x:\n",
    "            l=mid+1\n",
    "        else:\n",
    "            r=mid-1\n",
    "    return -1"
   ]
  },
  {
   "cell_type": "code",
   "execution_count": 25,
   "metadata": {},
   "outputs": [
    {
     "name": "stdout",
     "output_type": "stream",
     "text": [
      "Element is present at index  3\n"
     ]
    }
   ],
   "source": [
    "def main():\n",
    "    arr=[2,3,4,10,40]\n",
    "    x=10\n",
    "    result=binarySearch(arr,0,len(arr)-1,x)\n",
    "    if result !=-1:\n",
    "        print(\"Element is present at index % d\" % result)\n",
    "    else:\n",
    "        print(\"Element is not present in array\")   \n",
    "main()"
   ]
  },
  {
   "cell_type": "markdown",
   "metadata": {},
   "source": [
    "### Binary Search - recursive"
   ]
  },
  {
   "cell_type": "code",
   "execution_count": 27,
   "metadata": {},
   "outputs": [],
   "source": [
    "def binarySearch(arr,l,r,x):\n",
    "    if r>=l:\n",
    "        mid=l+int((r-1)/2)\n",
    "        if arr[mid]==x:\n",
    "            return mid\n",
    "        elif arr[mid]>x:\n",
    "            return binarySearch(arr,l,mid-1,x)\n",
    "        else:\n",
    "            return binarySearch(arr,mid+1,r,x)\n",
    "    else:\n",
    "        return -1"
   ]
  },
  {
   "cell_type": "code",
   "execution_count": 28,
   "metadata": {},
   "outputs": [
    {
     "name": "stdout",
     "output_type": "stream",
     "text": [
      "Element is present at index  3\n"
     ]
    }
   ],
   "source": [
    "def main():\n",
    "    arr=[2,3,4,10,40]\n",
    "    x=10\n",
    "    result=binarySearch(arr,0,len(arr)-1,x)\n",
    "    if result !=-1:\n",
    "        print(\"Element is present at index % d\" % result)\n",
    "    else:\n",
    "        print(\"Element is not present in array\")   \n",
    "main()"
   ]
  }
 ],
 "metadata": {
  "kernelspec": {
   "display_name": "Python 3",
   "language": "python",
   "name": "python3"
  },
  "language_info": {
   "codemirror_mode": {
    "name": "ipython",
    "version": 3
   },
   "file_extension": ".py",
   "mimetype": "text/x-python",
   "name": "python",
   "nbconvert_exporter": "python",
   "pygments_lexer": "ipython3",
   "version": "3.7.0"
  }
 },
 "nbformat": 4,
 "nbformat_minor": 2
}
