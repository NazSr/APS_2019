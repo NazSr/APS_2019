{
 "cells": [
  {
   "cell_type": "markdown",
   "metadata": {},
   "source": [
    "### 1. Binomial Coefficient - recursive"
   ]
  },
  {
   "cell_type": "code",
   "execution_count": 6,
   "metadata": {},
   "outputs": [
    {
     "name": "stdout",
     "output_type": "stream",
     "text": [
      "value of 5 C 2 is 10\n"
     ]
    }
   ],
   "source": [
    "def bc(n,k):\n",
    "    if n==k or k==0:\n",
    "        return 1\n",
    "    else:\n",
    "        return bc(n-1,k-1)+bc(n-1,k)\n",
    "def main():\n",
    "    n=5\n",
    "    k=2\n",
    "    res = bc(n,k)\n",
    "    print(\"value of\",n,\"C\",k,\"is\",res)\n",
    "main()"
   ]
  },
  {
   "cell_type": "markdown",
   "metadata": {},
   "source": [
    "### 2. Binomial Coefficient - dynamic programming v-1.0"
   ]
  },
  {
   "cell_type": "code",
   "execution_count": 8,
   "metadata": {},
   "outputs": [
    {
     "name": "stdout",
     "output_type": "stream",
     "text": [
      "value of 5 C 2 is 10\n"
     ]
    }
   ],
   "source": [
    "def bc(n,k):\n",
    "    lst = [[0 for x in range(k+1)] for x in range(n+1)]\n",
    "    \n",
    "    for i in range(n+1):\n",
    "        for j in range(min(i,k)+1):\n",
    "            if j==0 or j==i:\n",
    "                lst[i][j]=1\n",
    "            else:\n",
    "                lst[i][j]=lst[i-1][j-1] + lst[i-1][j]\n",
    "    return lst[n][k]\n",
    "    \n",
    "def main():\n",
    "    n=5\n",
    "    k=2\n",
    "    res = bc(n,k)\n",
    "    print(\"value of\",n,\"C\",k,\"is\",res)\n",
    "main()"
   ]
  },
  {
   "cell_type": "markdown",
   "metadata": {},
   "source": [
    "### 3. Binomial Coefficient - dynamic programming v-2.0 (1-d array)"
   ]
  },
  {
   "cell_type": "code",
   "execution_count": 16,
   "metadata": {},
   "outputs": [
    {
     "name": "stdout",
     "output_type": "stream",
     "text": [
      "value of 5 C 2 is 10\n"
     ]
    }
   ],
   "source": [
    "def bc(n,k):\n",
    "    lst = [0 for i in range(k+1)]\n",
    "    lst[0]=1\n",
    "    \n",
    "    for i in range(1,n+1):\n",
    "        j=min(i,k)\n",
    "        while(j>0):\n",
    "            lst[j]=lst[j]+lst[j-1]\n",
    "            j-=1\n",
    "    return lst[k]\n",
    "\n",
    "def main():\n",
    "    n=5\n",
    "    k=2\n",
    "    res = bc(n,k)\n",
    "    print(\"value of\",n,\"C\",k,\"is\",res)\n",
    "main()"
   ]
  }
 ],
 "metadata": {
  "kernelspec": {
   "display_name": "Python 3",
   "language": "python",
   "name": "python3"
  },
  "language_info": {
   "codemirror_mode": {
    "name": "ipython",
    "version": 3
   },
   "file_extension": ".py",
   "mimetype": "text/x-python",
   "name": "python",
   "nbconvert_exporter": "python",
   "pygments_lexer": "ipython3",
   "version": "3.7.0"
  }
 },
 "nbformat": 4,
 "nbformat_minor": 2
}
