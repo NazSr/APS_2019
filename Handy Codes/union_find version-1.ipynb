{
 "cells": [
  {
   "cell_type": "code",
   "execution_count": 4,
   "metadata": {},
   "outputs": [],
   "source": [
    "def initialize(arr):\n",
    "    for i in range(0,len(arr)):\n",
    "        arr[i]=i"
   ]
  },
  {
   "cell_type": "code",
   "execution_count": 15,
   "metadata": {},
   "outputs": [],
   "source": [
    "def Find(a,b,arr):\n",
    "    if(arr[a]==arr[b]):\n",
    "        return 1\n",
    "    else:\n",
    "        return 0"
   ]
  },
  {
   "cell_type": "code",
   "execution_count": 16,
   "metadata": {},
   "outputs": [],
   "source": [
    "def Union(a,b,arr):\n",
    "    temp = arr[a]\n",
    "    for i in range(0,len(arr)):\n",
    "        if(arr[i]==temp):\n",
    "            arr[i] = arr[b]"
   ]
  },
  {
   "cell_type": "code",
   "execution_count": 18,
   "metadata": {},
   "outputs": [
    {
     "name": "stdout",
     "output_type": "stream",
     "text": [
      "\t 0\n",
      "\t 1\n",
      "\t 1\n",
      "\t 3\n",
      "\t 3\n",
      "\t 1\n",
      "\t 1\n",
      "\t 7\n",
      "\t 3\n",
      "\t 3\n",
      "\n",
      " 0\n",
      "\n",
      " 1\n"
     ]
    }
   ],
   "source": [
    "def main():\n",
    "    n=10\n",
    "    arr = list()\n",
    "    arr=[_ for _ in range(n)]\n",
    "    initialize(arr)\n",
    "    Union(2,1,arr)\n",
    "    Union(4,3,arr)\n",
    "    Union(8,4,arr)\n",
    "    Union(9,3,arr)\n",
    "    Union(6,5,arr)\n",
    "    Union(5,2,arr)\n",
    "    \n",
    "    for i in range(0,len(arr)):\n",
    "        print(\"\\t\",arr[i])\n",
    "        \n",
    "    status = Find(0,7,arr)\n",
    "    print(\"\\n\",status)\n",
    "    status = Find(1,6,arr)    \n",
    "    print(\"\\n\",status)\n",
    "main()"
   ]
  },
  {
   "cell_type": "code",
   "execution_count": null,
   "metadata": {},
   "outputs": [],
   "source": []
  },
  {
   "cell_type": "code",
   "execution_count": null,
   "metadata": {},
   "outputs": [],
   "source": []
  }
 ],
 "metadata": {
  "kernelspec": {
   "display_name": "Python 3",
   "language": "python",
   "name": "python3"
  },
  "language_info": {
   "codemirror_mode": {
    "name": "ipython",
    "version": 3
   },
   "file_extension": ".py",
   "mimetype": "text/x-python",
   "name": "python",
   "nbconvert_exporter": "python",
   "pygments_lexer": "ipython3",
   "version": "3.7.0"
  }
 },
 "nbformat": 4,
 "nbformat_minor": 2
}
