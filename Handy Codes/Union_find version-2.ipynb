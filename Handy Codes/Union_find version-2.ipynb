{
 "cells": [
  {
   "cell_type": "code",
   "execution_count": 13,
   "metadata": {},
   "outputs": [],
   "source": [
    "def initialize(arr,n):\n",
    "    for i in range(0,n):\n",
    "        arr[i]=i\n",
    "        "
   ]
  },
  {
   "cell_type": "code",
   "execution_count": 14,
   "metadata": {},
   "outputs": [],
   "source": [
    "def root(i,arr):\n",
    "    while(arr[i]!=i):\n",
    "        i=arr[i]\n",
    "    return i"
   ]
  },
  {
   "cell_type": "code",
   "execution_count": 19,
   "metadata": {},
   "outputs": [],
   "source": [
    "def Find(a,b,arr):\n",
    "    if(root(a,arr) == root(b,arr)):\n",
    "        return 1\n",
    "    else:\n",
    "        return 0"
   ]
  },
  {
   "cell_type": "code",
   "execution_count": 20,
   "metadata": {},
   "outputs": [],
   "source": [
    "def Union(a,b,arr):\n",
    "    root_a = root(a,arr)\n",
    "    root_b = root(b,arr)\n",
    "    arr[root_a] = root_b"
   ]
  },
  {
   "cell_type": "code",
   "execution_count": 21,
   "metadata": {},
   "outputs": [
    {
     "name": "stdout",
     "output_type": "stream",
     "text": [
      "\t 2\n",
      "\t 0\n",
      "\t 4\n",
      "\t 4\n",
      "\t 4\n",
      "\t 5\n",
      "1\n",
      "0\n"
     ]
    }
   ],
   "source": [
    "def main():\n",
    "    n=6\n",
    "    arr=[_ for _ in range(n)]\n",
    "    initialize(arr,n)\n",
    "    Union(1,0,arr)\n",
    "    Union(0,2,arr)\n",
    "    Union(3,4,arr)\n",
    "    Union(1,4,arr)\n",
    "    \n",
    "    for i in range(0,n):\n",
    "        print(\"\\t\",arr[i])\n",
    "    \n",
    "    status = Find(1,4,arr)\n",
    "    print(status)\n",
    "    \n",
    "    status = Find(3,5,arr)\n",
    "    print(status)\n",
    "main()\n",
    "    "
   ]
  },
  {
   "cell_type": "code",
   "execution_count": null,
   "metadata": {},
   "outputs": [],
   "source": []
  }
 ],
 "metadata": {
  "kernelspec": {
   "display_name": "Python 3",
   "language": "python",
   "name": "python3"
  },
  "language_info": {
   "codemirror_mode": {
    "name": "ipython",
    "version": 3
   },
   "file_extension": ".py",
   "mimetype": "text/x-python",
   "name": "python",
   "nbconvert_exporter": "python",
   "pygments_lexer": "ipython3",
   "version": "3.7.0"
  }
 },
 "nbformat": 4,
 "nbformat_minor": 2
}
