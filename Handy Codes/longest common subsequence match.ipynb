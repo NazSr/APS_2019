{
 "cells": [
  {
   "cell_type": "markdown",
   "metadata": {},
   "source": [
    "### longest_common_subsequence_match"
   ]
  },
  {
   "cell_type": "code",
   "execution_count": 5,
   "metadata": {},
   "outputs": [],
   "source": [
    "def lcs(str1,str2):\n",
    "    lst = [[None]*(len(str2)+1) for i in range(len(str1)+1)]\n",
    "    \n",
    "    for i in range(len(str1)+1):\n",
    "        for j in range(len(str2)+1):\n",
    "            if i==0 or j==0:\n",
    "                lst[i][j] = 0\n",
    "            elif str1[i-1] == str2[j-1]:\n",
    "                lst[i][j] = lst[i-1][j-1]+1\n",
    "            else:\n",
    "                lst[i][j] = max(lst[i-1][j],lst[i][j-1])\n",
    "                \n",
    "    return lst[len(str1)][len(str2)]\n",
    "    "
   ]
  },
  {
   "cell_type": "code",
   "execution_count": 6,
   "metadata": {},
   "outputs": [
    {
     "name": "stdout",
     "output_type": "stream",
     "text": [
      "LCS for supplied input is:\n",
      "\n",
      "5\n"
     ]
    }
   ],
   "source": [
    "def main():\n",
    "    # input strings\n",
    "    str1 = \"lmnop\"\n",
    "    str2 = \"lmmnoop\"\n",
    "    \n",
    "    result = lcs(str1,str2)\n",
    "    print(\"LCS for supplied input is:\\n\")\n",
    "    print(result)\n",
    "main()"
   ]
  }
 ],
 "metadata": {
  "kernelspec": {
   "display_name": "Python 3",
   "language": "python",
   "name": "python3"
  },
  "language_info": {
   "codemirror_mode": {
    "name": "ipython",
    "version": 3
   },
   "file_extension": ".py",
   "mimetype": "text/x-python",
   "name": "python",
   "nbconvert_exporter": "python",
   "pygments_lexer": "ipython3",
   "version": "3.7.0"
  }
 },
 "nbformat": 4,
 "nbformat_minor": 2
}
