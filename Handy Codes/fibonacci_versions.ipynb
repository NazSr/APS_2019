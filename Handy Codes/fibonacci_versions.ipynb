{
 "cells": [
  {
   "cell_type": "markdown",
   "metadata": {},
   "source": [
    "### 1. fibonacci dynamic"
   ]
  },
  {
   "cell_type": "code",
   "execution_count": 2,
   "metadata": {},
   "outputs": [],
   "source": [
    "def fibo(n):\n",
    "    fib = [_ for _ in range(n+1)]\n",
    "    fib[0]=0\n",
    "    fib[1]=1\n",
    "    \n",
    "    for i in range(2,n+1):\n",
    "        fib[i] = fib[i-1]+fib[i-2]\n",
    "    return fib[n]"
   ]
  },
  {
   "cell_type": "code",
   "execution_count": 3,
   "metadata": {},
   "outputs": [
    {
     "name": "stdout",
     "output_type": "stream",
     "text": [
      "Enter the required nth no. in fibonacci series:\n",
      "10\n",
      "The %d number in fibonacci series is %d\n",
      " 10 55\n"
     ]
    }
   ],
   "source": [
    "def main():\n",
    "    print(\"Enter the required nth no. in fibonacci series:\")\n",
    "    n = int(input())\n",
    "    \n",
    "    if(n==0):\n",
    "        res=0\n",
    "    else:\n",
    "        res=fibo(n)\n",
    "    print(\"The %d number in fibonacci series is %d\\n\",n,res)\n",
    "main()"
   ]
  },
  {
   "cell_type": "markdown",
   "metadata": {},
   "source": [
    "### 2. fibonacci iterative"
   ]
  },
  {
   "cell_type": "code",
   "execution_count": 5,
   "metadata": {},
   "outputs": [],
   "source": [
    "def fibo_iter(n):\n",
    "    prev=1\n",
    "    curr=1\n",
    "    next=1\n",
    "    for i in range(3,n+1):\n",
    "        next=curr+prev\n",
    "        prev=curr\n",
    "        curr=next\n",
    "        \n",
    "    return next"
   ]
  },
  {
   "cell_type": "code",
   "execution_count": 7,
   "metadata": {},
   "outputs": [
    {
     "name": "stdout",
     "output_type": "stream",
     "text": [
      "Enter the required nth no. in fibonacci series:\n",
      "10\n",
      "The %d number in fibonacci series is %d\n",
      " 10 55\n"
     ]
    }
   ],
   "source": [
    "def main():\n",
    "    print(\"Enter the required nth no. in fibonacci series:\")\n",
    "    n = int(input())\n",
    "    \n",
    "    if(n==0):\n",
    "        res=0\n",
    "    else:\n",
    "        res=fibo_iter(n)\n",
    "    print(\"The %d number in fibonacci series is %d\\n\",n,res)\n",
    "main()\n",
    "    "
   ]
  },
  {
   "cell_type": "markdown",
   "metadata": {},
   "source": [
    "### 3. fibonacci recursive"
   ]
  },
  {
   "cell_type": "code",
   "execution_count": 8,
   "metadata": {},
   "outputs": [],
   "source": [
    "def fibo_recur(n):\n",
    "    if(n==0):\n",
    "        return 0\n",
    "    elif (n==1):\n",
    "        return 1\n",
    "    else:\n",
    "        return(fibo_recur(n-1)+fibo_recur(n-2))"
   ]
  },
  {
   "cell_type": "code",
   "execution_count": 9,
   "metadata": {},
   "outputs": [
    {
     "name": "stdout",
     "output_type": "stream",
     "text": [
      "Enter the required nth no. in fibonacci series:\n",
      "10\n",
      "The %d number in fibonacci series is %d\n",
      " 10 55\n"
     ]
    }
   ],
   "source": [
    "def main():\n",
    "    print(\"Enter the required nth no. in fibonacci series:\")\n",
    "    n = int(input())\n",
    "    \n",
    "    res=fibo_recur(n)\n",
    "    print(\"The %d number in fibonacci series is %d\\n\",n,res)\n",
    "main()"
   ]
  },
  {
   "cell_type": "code",
   "execution_count": null,
   "metadata": {},
   "outputs": [],
   "source": []
  }
 ],
 "metadata": {
  "kernelspec": {
   "display_name": "Python 3",
   "language": "python",
   "name": "python3"
  },
  "language_info": {
   "codemirror_mode": {
    "name": "ipython",
    "version": 3
   },
   "file_extension": ".py",
   "mimetype": "text/x-python",
   "name": "python",
   "nbconvert_exporter": "python",
   "pygments_lexer": "ipython3",
   "version": "3.7.0"
  }
 },
 "nbformat": 4,
 "nbformat_minor": 2
}
