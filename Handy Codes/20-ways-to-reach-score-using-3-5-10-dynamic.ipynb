{
 "cells": [
  {
   "cell_type": "markdown",
   "metadata": {},
   "source": [
    "### 2. ways to get 3,5,10"
   ]
  },
  {
   "cell_type": "code",
   "execution_count": null,
   "metadata": {},
   "outputs": [],
   "source": [
    "def ways_dynamicProg(t,sum_num):\n",
    "    res=[0 for i in range(sum_num+1)]\n",
    "    \n",
    "    res[0]=1\n",
    "    \n",
    "    for i in t:\n",
    "        for j in range(i,sum_num+1):\n",
    "            res[j]= res[j]+res[j-i]\n",
    "    print(\"Ways available:\\t\",res[sum_num])\n",
    "    \n",
    "def main():\n",
    "    sum_num = int(input())\n",
    "    num=int(input())\n",
    "    t=[]\n",
    "    for i in range(1,num+1):\n",
    "        t.append(int(input()))\n",
    "    ways_dynamicProg(t,sum_num)\n",
    "main()"
   ]
  },
  {
   "cell_type": "code",
   "execution_count": null,
   "metadata": {},
   "outputs": [],
   "source": []
  }
 ],
 "metadata": {
  "kernelspec": {
   "display_name": "Python 3",
   "language": "python",
   "name": "python3"
  },
  "language_info": {
   "codemirror_mode": {
    "name": "ipython",
    "version": 3
   },
   "file_extension": ".py",
   "mimetype": "text/x-python",
   "name": "python",
   "nbconvert_exporter": "python",
   "pygments_lexer": "ipython3",
   "version": "3.7.0"
  }
 },
 "nbformat": 4,
 "nbformat_minor": 2
}
